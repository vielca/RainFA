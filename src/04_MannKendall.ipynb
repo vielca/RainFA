{
 "cells": [
  {
   "cell_type": "code",
   "execution_count": 1,
   "metadata": {},
   "outputs": [],
   "source": [
    "import pandas as pd\n",
    "import numpy as np\n",
    "import pymannkendall as mk\n",
    "import statsmodels.api as sm\n",
    "import os\n"
   ]
  },
  {
   "cell_type": "code",
   "execution_count": 2,
   "metadata": {},
   "outputs": [],
   "source": [
    "results_folder = r'../example/results/mann-kendall'\n",
    "stations_csv_file = r'../example/data/Stations.csv'\n",
    "precipitations_daily_ts_parquet = r'precipitations_daily_time_series.parquet' \n",
    "\n",
    "if not os.path.exists(results_folder):\n",
    "    os.mkdir(results_folder)"
   ]
  },
  {
   "cell_type": "code",
   "execution_count": 3,
   "metadata": {},
   "outputs": [],
   "source": [
    "df = pd.read_parquet(precipitations_daily_ts_parquet)\n",
    "df_stations = pd.read_csv(stations_csv_file)"
   ]
  },
  {
   "cell_type": "code",
   "execution_count": 4,
   "metadata": {},
   "outputs": [],
   "source": [
    "stations_dict = { x['Id'] : x['Name']  for x in df_stations.to_dict(orient='records')}\n",
    "df['StationName'] = df['StationId'].apply(lambda x: stations_dict[x])"
   ]
  },
  {
   "cell_type": "code",
   "execution_count": 5,
   "metadata": {},
   "outputs": [],
   "source": [
    "mk_list_val = list()\n",
    "for station, df_day in df.groupby('StationName'):\n",
    "    data_df = df_day.set_index('DateTime')[['IR']]\n",
    "    trend, h, p, z, Tau, s, var_s, slope, intercept = mk.original_test(data_df)\n",
    "    mk_list_val.append([station, trend, h, p, z, Tau, s, var_s, slope, intercept])\n",
    "    #print(mk.original_test(data_df, alpha=0.05))\n",
    "\n",
    "df_mk = pd.DataFrame(mk_list_val, columns =['station', 'trend', 'h', 'p', 'z', 'Tau', 's', 'var_s', 'slope', 'intercept'])\n",
    "\n",
    "mk_list_val = list()\n",
    "for station, df_day in df.groupby('StationName'):\n",
    "    data_df = df_day[df_day['IR']>2].set_index('DateTime')[['IR']]\n",
    "    trend, h, p, z, Tau, s, var_s, slope, intercept = mk.original_test(data_df)\n",
    "    mk_list_val.append([station, trend, h, p, z, Tau, s, var_s, slope, intercept])\n",
    "    #print(mk.original_test(data_df, alpha=0.05))\n",
    "\n",
    "df_mk_only_rains = pd.DataFrame(mk_list_val, columns =['station', 'trend', 'h', 'p', 'z', 'Tau', 's', 'var_s', 'slope', 'intercept'])\n"
   ]
  },
  {
   "cell_type": "code",
   "execution_count": 6,
   "metadata": {},
   "outputs": [],
   "source": [
    "df_mk.to_excel(os.path.join(results_folder,'mk_original_test.xlsx'), index=False)\n",
    "df_mk_only_rains.to_excel(os.path.join(results_folder,'mk_original_test_only_rains.xlsx'), index=False)"
   ]
  }
 ],
 "metadata": {
  "kernelspec": {
   "display_name": "Python 3",
   "language": "python",
   "name": "python3"
  },
  "language_info": {
   "codemirror_mode": {
    "name": "ipython",
    "version": 3
   },
   "file_extension": ".py",
   "mimetype": "text/x-python",
   "name": "python",
   "nbconvert_exporter": "python",
   "pygments_lexer": "ipython3",
   "version": "3.11.4"
  },
  "orig_nbformat": 4
 },
 "nbformat": 4,
 "nbformat_minor": 2
}
