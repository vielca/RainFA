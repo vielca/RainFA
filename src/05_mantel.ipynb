{
 "cells": [
  {
   "cell_type": "code",
   "execution_count": 21,
   "metadata": {},
   "outputs": [],
   "source": [
    "import mantel\n",
    "import os\n",
    "import pandas as pd\n",
    "from sklearn.cluster import KMeans\n",
    "from sklearn.datasets import make_blobs\n",
    "from sklearn.metrics import silhouette_samples, silhouette_score\n",
    "from scipy.spatial.distance import pdist, squareform\n",
    "from matplotlib import pyplot as plt\n",
    "import numpy as np\n",
    "import matplotlib.offsetbox"
   ]
  },
  {
   "cell_type": "code",
   "execution_count": 27,
   "metadata": {},
   "outputs": [],
   "source": [
    "results_folder = r'../example/results/mantel'\n",
    "stations_parquet_file = r'stations_with_stats.parquet'\n",
    "\n",
    "if not os.path.exists(results_folder):\n",
    "    os.mkdir(results_folder)\n",
    "\n",
    "df = pd.read_parquet(stations_parquet_file)"
   ]
  },
  {
   "cell_type": "code",
   "execution_count": 4,
   "metadata": {},
   "outputs": [
    {
     "name": "stderr",
     "output_type": "stream",
     "text": [
      "c:\\Users\\pablobla\\AppData\\Local\\Programs\\Python\\Python311\\Lib\\site-packages\\sklearn\\cluster\\_kmeans.py:1416: FutureWarning: The default value of `n_init` will change from 10 to 'auto' in 1.4. Set the value of `n_init` explicitly to suppress the warning\n",
      "  super()._check_params_vs_input(X, default_n_init=10)\n"
     ]
    },
    {
     "name": "stdout",
     "output_type": "stream",
     "text": [
      "For n_clusters = 2 The average mantel_score for all columns is : 0.8406380861135847\n",
      "For n_clusters = 3 The average mantel_score for all columns is : 0.8527553065789077\n"
     ]
    },
    {
     "name": "stderr",
     "output_type": "stream",
     "text": [
      "c:\\Users\\pablobla\\AppData\\Local\\Programs\\Python\\Python311\\Lib\\site-packages\\sklearn\\cluster\\_kmeans.py:1416: FutureWarning: The default value of `n_init` will change from 10 to 'auto' in 1.4. Set the value of `n_init` explicitly to suppress the warning\n",
      "  super()._check_params_vs_input(X, default_n_init=10)\n",
      "c:\\Users\\pablobla\\AppData\\Local\\Programs\\Python\\Python311\\Lib\\site-packages\\sklearn\\cluster\\_kmeans.py:1416: FutureWarning: The default value of `n_init` will change from 10 to 'auto' in 1.4. Set the value of `n_init` explicitly to suppress the warning\n",
      "  super()._check_params_vs_input(X, default_n_init=10)\n"
     ]
    },
    {
     "name": "stdout",
     "output_type": "stream",
     "text": [
      "For n_clusters = 4 The average mantel_score for all columns is : 0.48135912440242024\n",
      "For n_clusters = 5 The average mantel_score for all columns is : 0.45302841386892156\n"
     ]
    },
    {
     "name": "stderr",
     "output_type": "stream",
     "text": [
      "c:\\Users\\pablobla\\AppData\\Local\\Programs\\Python\\Python311\\Lib\\site-packages\\sklearn\\cluster\\_kmeans.py:1416: FutureWarning: The default value of `n_init` will change from 10 to 'auto' in 1.4. Set the value of `n_init` explicitly to suppress the warning\n",
      "  super()._check_params_vs_input(X, default_n_init=10)\n",
      "c:\\Users\\pablobla\\AppData\\Local\\Programs\\Python\\Python311\\Lib\\site-packages\\sklearn\\cluster\\_kmeans.py:1416: FutureWarning: The default value of `n_init` will change from 10 to 'auto' in 1.4. Set the value of `n_init` explicitly to suppress the warning\n",
      "  super()._check_params_vs_input(X, default_n_init=10)\n"
     ]
    },
    {
     "name": "stdout",
     "output_type": "stream",
     "text": [
      "For n_clusters = 6 The average mantel_score for all columns is : 0.044953441160546455\n",
      "For n_clusters = 7 The average mantel_score for all columns is : 0.05396226840427866\n"
     ]
    },
    {
     "name": "stderr",
     "output_type": "stream",
     "text": [
      "c:\\Users\\pablobla\\AppData\\Local\\Programs\\Python\\Python311\\Lib\\site-packages\\sklearn\\cluster\\_kmeans.py:1416: FutureWarning: The default value of `n_init` will change from 10 to 'auto' in 1.4. Set the value of `n_init` explicitly to suppress the warning\n",
      "  super()._check_params_vs_input(X, default_n_init=10)\n",
      "c:\\Users\\pablobla\\AppData\\Local\\Programs\\Python\\Python311\\Lib\\site-packages\\sklearn\\cluster\\_kmeans.py:1416: FutureWarning: The default value of `n_init` will change from 10 to 'auto' in 1.4. Set the value of `n_init` explicitly to suppress the warning\n",
      "  super()._check_params_vs_input(X, default_n_init=10)\n"
     ]
    },
    {
     "name": "stdout",
     "output_type": "stream",
     "text": [
      "For n_clusters = 8 The average mantel_score for all columns is : -0.057373574231564965\n"
     ]
    }
   ],
   "source": [
    "range_n_clusters = [2, 3, 4, 5, 6, 7, 8]\n",
    "\n",
    "# Possible columns to use with cluster\n",
    "# 'StationId', 'Name', 'Latitude', 'Longitude', 'Elevation', 'Series Start', 'Series end', \n",
    "# 'Min day IR', 'Max day IR', 'Yearly rainfall', 'Number of days with rainfall over 0.2 mm'\n",
    "\n",
    "df_values = df[['Latitude', 'Longitude', 'Elevation', 'Yearly rainfall', 'Number of days with rainfall over 0.2 mm']]\n",
    "c_dist = pdist(df_values)\n",
    "mantel_list = list()\n",
    "for n_clusters in range_n_clusters:\n",
    "    \n",
    "    clusterer = KMeans(n_clusters=n_clusters)\n",
    "    cluster_labels = clusterer.fit_predict(df_values)\n",
    "    #df[str(n_clusters)] = cluster_labels\n",
    "\n",
    "    cluster_2d = [[x] for x in cluster_labels ]\n",
    "\n",
    "    mantel_avg = mantel.test(c_dist, pdist(cluster_2d), perms=10000, method='pearson')\n",
    "    mantel_list.append([n_clusters, mantel_avg.r])\n",
    "    \n",
    "    print(\n",
    "        \"For n_clusters =\",\n",
    "        n_clusters,\n",
    "        \"The average mantel_score for all columns is :\",\n",
    "        mantel_avg.r,\n",
    "    )\n",
    "df_mantel = pd.DataFrame(mantel_list, columns =['Num_clusters', 'mantel'])\n",
    "df_mantel.to_excel(os.path.join(results_folder, 'mantel.xlsx'), index=False)\n",
    "#df.to_excel('silhouette_todas_columnas.xlsx', index=False)"
   ]
  },
  {
   "cell_type": "code",
   "execution_count": 5,
   "metadata": {},
   "outputs": [
    {
     "data": {
      "text/plain": [
       "array([4., 5., 1., 6., 2., 1., 3., 1., 5., 2., 2., 3., 1., 6., 1., 3., 4.,\n",
       "       2., 7., 3., 2., 4., 4., 5., 3., 1., 1., 2.])"
      ]
     },
     "execution_count": 5,
     "metadata": {},
     "output_type": "execute_result"
    }
   ],
   "source": [
    "#pdist(cluster_2d)"
   ]
  },
  {
   "cell_type": "code",
   "execution_count": 6,
   "metadata": {},
   "outputs": [
    {
     "data": {
      "text/plain": [
       "array([1546.39724052, 1618.63331238,  187.51424776,  745.63740676,\n",
       "       1641.41233964,  545.11923276,  280.68998415, 1016.85850287,\n",
       "       1546.66148357, 2135.77570746, 1591.44342594, 1456.26246281,\n",
       "       1607.36169203, 1503.58048694, 1863.19222621,  634.33086714,\n",
       "       1198.30745792, 1498.68692446,  636.02156542, 1477.82990681,\n",
       "        370.17566925,  106.03688025, 1612.7708327 ,  705.79176001,\n",
       "        547.80502864, 1110.09725326, 1429.68869432,  322.13437865])"
      ]
     },
     "execution_count": 6,
     "metadata": {},
     "output_type": "execute_result"
    }
   ],
   "source": [
    "#c_dist"
   ]
  },
  {
   "cell_type": "code",
   "execution_count": 40,
   "metadata": {},
   "outputs": [
    {
     "data": {
      "image/png": "[encoded data removed]",
      "text/plain": [
       "<Figure size 640x480 with 1 Axes>"
      ]
     },
     "metadata": {},
     "output_type": "display_data"
    }
   ],
   "source": [
    "#df_prec = pd.read_csv('Data.csv', sep=';')\n",
    "fig, ax = plt.subplots()\n",
    "rects=ax.bar(df_mantel['Num_clusters'],round(df_mantel['mantel'],3), width=0.8)\n",
    "ax.bar_label(rects, padding=3)\n",
    "ax.set_ylabel('Pearson')\n",
    "ax.set_xlabel('Clusters')\n",
    "ax.set_title('Mantel score')\n",
    "plt.savefig(os.path.join(results_folder, 'mantel.jpg'))\n",
    "\n",
    "plt.show()"
   ]
  }
 ],
 "metadata": {
  "kernelspec": {
   "display_name": "Python 3",
   "language": "python",
   "name": "python3"
  },
  "language_info": {
   "codemirror_mode": {
    "name": "ipython",
    "version": 3
   },
   "file_extension": ".py",
   "mimetype": "text/x-python",
   "name": "python",
   "nbconvert_exporter": "python",
   "pygments_lexer": "ipython3",
   "version": "3.11.4"
  },
  "orig_nbformat": 4
 },
 "nbformat": 4,
 "nbformat_minor": 2
}
