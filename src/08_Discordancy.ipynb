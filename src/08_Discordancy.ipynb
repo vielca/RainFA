{
 "cells": [
  {
   "cell_type": "code",
   "execution_count": 10,
   "metadata": {},
   "outputs": [],
   "source": [
    "import lmoments3 as lm\n",
    "from lmoments3 import distr\n",
    "import pandas as pd\n",
    "import numpy as np\n",
    "import os\n",
    "from scipy.stats import kappa4\n",
    "from scipy.special import gamma"
   ]
  },
  {
   "cell_type": "code",
   "execution_count": 11,
   "metadata": {},
   "outputs": [],
   "source": [
    "results_folder = r'../example/results/discordancy'\n",
    "if not os.path.exists(results_folder):\n",
    "    os.mkdir(results_folder)"
   ]
  },
  {
   "cell_type": "code",
   "execution_count": 13,
   "metadata": {},
   "outputs": [],
   "source": [
    "\n",
    "stations = ['Station1','Station2','Station3','Station4','Station5','Station6','Station7'] #Selection of stations of interest within a cluster\n",
    "df_prec = pd.read_parquet('precipitations_daily_time_series.parquet')\n",
    "lmoments_list_val = list()\n",
    "u_list = list()\n",
    "for sta, df_dia in df_prec.groupby('StationId'): \n",
    "    #Extracting data from db, clearing NANs and passing it into an array\n",
    "    if(sta not in stations):continue\n",
    "    df_station = df_dia[df_dia[\"StationId\"]==sta]\n",
    "    station = df_station[df_station['IR']>=0.2]['IR']\n",
    "    array = station.to_numpy()\n",
    "    x = array[~np.isnan(array)]\n",
    "    n_x = len(x)\n",
    "    sum_x = sum(x)\n",
    "    #L-moment determination\n",
    "    lamb1, lamb2, t3, t4 = lm.lmom_ratios(x, nmom=4)\n",
    "    l_CV = lamb2/lamb1\n",
    "    lmoments_list_val.append([sta, lamb1, lamb2, t3, t4, l_CV, n_x, sum_x])\n",
    "    u_list.append([sta, l_CV, t3, t4, n_x])\n",
    "df_lmoments = pd.DataFrame(lmoments_list_val, columns =['station', 'lamb1', 'lamb2', 't3', 't4', 'l_CV', 'n', 'sum_x'])\n",
    "df_u = pd.DataFrame(u_list, columns =['station', 'l_CV', 't3', 't4', 'n'])\n",
    "df_u.to_excel(os.path.join(results_folder, 'ui.xlsx'), index=False)"
   ]
  },
  {
   "cell_type": "code",
   "execution_count": 14,
   "metadata": {},
   "outputs": [],
   "source": [
    "#DISCORDANCY\n",
    "#ui average\n",
    "sum_lCV = 0\n",
    "sum_t3 = 0\n",
    "sum_t4 = 0\n",
    "N_ui = len(stations)\n",
    "for i in range(0, N_ui):\n",
    "    sum_lCV = sum_lCV + df_u.at[i,'l_CV']\n",
    "    sum_t3 = sum_t3 + df_u.at[i,'t3']\n",
    "    sum_t4 = sum_t4 + df_u.at[i,'t4']\n",
    "\n",
    "u_mean = (sum_lCV/N_ui,sum_t3/N_ui,sum_t4/N_ui)\n",
    "\n",
    "#A\n",
    "A = np.zeros((3, 3))\n",
    "for i in range(0, N_ui):\n",
    "    list_ui = (df_u.at[i,'l_CV']-u_mean[0], df_u.at[i,'t3']-u_mean[1], df_u.at[i,'t4']-u_mean[2])\n",
    "    ui_array = (np.array(list_ui)).reshape(1, -1)\n",
    "    ui_array_T = (ui_array.T).reshape(-1, 1)\n",
    "    A = A + np.dot(ui_array_T,ui_array)\n",
    "\n",
    "\n",
    "# Calculate Discordancy of different sites i\n",
    "Di = list()\n",
    "for i in range(0, N_ui):\n",
    "    list_ui = (df_u.at[i,'l_CV']-u_mean[0], df_u.at[i,'t3']-u_mean[1], df_u.at[i,'t4']-u_mean[2])\n",
    "    ui_array = (np.array(list_ui)).reshape(1, -1)\n",
    "    ui_array_T = (ui_array.T).reshape(-1, 1)\n",
    "    D_i = N_ui/3*np.dot(ui_array,np.dot(np.linalg.inv(A),ui_array_T))\n",
    "    Di.append([stations[i], np.mean(D_i)])\n",
    "df_Di =pd.DataFrame(Di, columns=['station','Di'])\n",
    "df_Di.to_excel(os.path.join(results_folder, 'Di.xlsx'), index=False)"
   ]
  }
 ],
 "metadata": {
  "kernelspec": {
   "display_name": "Python 3",
   "language": "python",
   "name": "python3"
  },
  "language_info": {
   "codemirror_mode": {
    "name": "ipython",
    "version": 3
   },
   "file_extension": ".py",
   "mimetype": "text/x-python",
   "name": "python",
   "nbconvert_exporter": "python",
   "pygments_lexer": "ipython3",
   "version": "3.11.4"
  },
  "orig_nbformat": 4
 },
 "nbformat": 4,
 "nbformat_minor": 2
}
